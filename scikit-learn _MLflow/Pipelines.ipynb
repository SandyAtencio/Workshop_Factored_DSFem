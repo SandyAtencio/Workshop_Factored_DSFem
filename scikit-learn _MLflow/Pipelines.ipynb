{
 "cells": [
  {
   "cell_type": "code",
   "execution_count": 31,
   "metadata": {},
   "outputs": [
    {
     "name": "stdout",
     "output_type": "stream",
     "text": [
      "Requirement already satisfied: dill==0.3.4 in c:\\users\\user\\anaconda3\\lib\\site-packages (from -r requirements.txt (line 1)) (0.3.4)\n",
      "Requirement already satisfied: matplotlib==3.4.2 in c:\\users\\user\\anaconda3\\lib\\site-packages (from -r requirements.txt (line 2)) (3.4.2)\n",
      "Requirement already satisfied: mlflow==1.20.2 in c:\\users\\user\\anaconda3\\lib\\site-packages (from -r requirements.txt (line 3)) (1.20.2)\n",
      "Requirement already satisfied: numpy==1.21.0 in c:\\users\\user\\anaconda3\\lib\\site-packages (from -r requirements.txt (line 4)) (1.21.0)\n",
      "Requirement already satisfied: pandas==1.2.5 in c:\\users\\user\\anaconda3\\lib\\site-packages (from -r requirements.txt (line 5)) (1.2.5)\n",
      "Requirement already satisfied: scikit-learn==0.24.2 in c:\\users\\user\\anaconda3\\lib\\site-packages (from -r requirements.txt (line 6)) (0.24.2)\n",
      "Requirement already satisfied: seaborn==0.11.1 in c:\\users\\user\\anaconda3\\lib\\site-packages (from -r requirements.txt (line 7)) (0.11.1)\n",
      "Requirement already satisfied: pyparsing>=2.2.1 in c:\\users\\user\\anaconda3\\lib\\site-packages (from matplotlib==3.4.2->-r requirements.txt (line 2)) (2.4.7)\n",
      "Requirement already satisfied: python-dateutil>=2.7 in c:\\users\\user\\anaconda3\\lib\\site-packages (from matplotlib==3.4.2->-r requirements.txt (line 2)) (2.8.1)\n",
      "Requirement already satisfied: cycler>=0.10 in c:\\users\\user\\anaconda3\\lib\\site-packages (from matplotlib==3.4.2->-r requirements.txt (line 2)) (0.10.0)\n",
      "Requirement already satisfied: pillow>=6.2.0 in c:\\users\\user\\anaconda3\\lib\\site-packages (from matplotlib==3.4.2->-r requirements.txt (line 2)) (8.0.1)\n",
      "Requirement already satisfied: kiwisolver>=1.0.1 in c:\\users\\user\\anaconda3\\lib\\site-packages (from matplotlib==3.4.2->-r requirements.txt (line 2)) (1.3.0)\n",
      "Requirement already satisfied: pyyaml>=5.1 in c:\\users\\user\\anaconda3\\lib\\site-packages (from mlflow==1.20.2->-r requirements.txt (line 3)) (5.3.1)\n",
      "Requirement already satisfied: prometheus-flask-exporter in c:\\users\\user\\anaconda3\\lib\\site-packages (from mlflow==1.20.2->-r requirements.txt (line 3)) (0.18.4)\n",
      "Requirement already satisfied: gitpython>=2.1.0 in c:\\users\\user\\anaconda3\\lib\\site-packages (from mlflow==1.20.2->-r requirements.txt (line 3)) (3.1.24)\n",
      "Requirement already satisfied: querystring-parser in c:\\users\\user\\anaconda3\\lib\\site-packages (from mlflow==1.20.2->-r requirements.txt (line 3)) (1.2.4)\n",
      "Requirement already satisfied: importlib-metadata!=4.7.0,>=3.7.0 in c:\\users\\user\\anaconda3\\lib\\site-packages (from mlflow==1.20.2->-r requirements.txt (line 3)) (4.8.1)\n",
      "Requirement already satisfied: packaging in c:\\users\\user\\anaconda3\\lib\\site-packages (from mlflow==1.20.2->-r requirements.txt (line 3)) (20.4)\n",
      "Requirement already satisfied: sqlalchemy in c:\\users\\user\\anaconda3\\lib\\site-packages (from mlflow==1.20.2->-r requirements.txt (line 3)) (1.3.20)\n",
      "Requirement already satisfied: cloudpickle in c:\\users\\user\\anaconda3\\lib\\site-packages (from mlflow==1.20.2->-r requirements.txt (line 3)) (1.6.0)\n",
      "Requirement already satisfied: alembic<=1.4.1 in c:\\users\\user\\anaconda3\\lib\\site-packages (from mlflow==1.20.2->-r requirements.txt (line 3)) (1.4.1)\n",
      "Requirement already satisfied: waitress; platform_system == \"Windows\" in c:\\users\\user\\anaconda3\\lib\\site-packages (from mlflow==1.20.2->-r requirements.txt (line 3)) (2.0.0)\n",
      "Requirement already satisfied: docker>=4.0.0 in c:\\users\\user\\anaconda3\\lib\\site-packages (from mlflow==1.20.2->-r requirements.txt (line 3)) (5.0.3)\n",
      "Requirement already satisfied: sqlparse>=0.3.1 in c:\\users\\user\\anaconda3\\lib\\site-packages (from mlflow==1.20.2->-r requirements.txt (line 3)) (0.4.2)\n",
      "Requirement already satisfied: entrypoints in c:\\users\\user\\anaconda3\\lib\\site-packages (from mlflow==1.20.2->-r requirements.txt (line 3)) (0.3)\n",
      "Requirement already satisfied: databricks-cli>=0.8.7 in c:\\users\\user\\anaconda3\\lib\\site-packages (from mlflow==1.20.2->-r requirements.txt (line 3)) (0.16.2)\n",
      "Requirement already satisfied: Flask in c:\\users\\user\\anaconda3\\lib\\site-packages (from mlflow==1.20.2->-r requirements.txt (line 3)) (1.1.2)\n",
      "Requirement already satisfied: protobuf>=3.7.0 in c:\\users\\user\\anaconda3\\lib\\site-packages (from mlflow==1.20.2->-r requirements.txt (line 3)) (3.19.0)\n",
      "Requirement already satisfied: pytz in c:\\users\\user\\anaconda3\\lib\\site-packages (from mlflow==1.20.2->-r requirements.txt (line 3)) (2020.1)\n",
      "Requirement already satisfied: click>=7.0 in c:\\users\\user\\anaconda3\\lib\\site-packages (from mlflow==1.20.2->-r requirements.txt (line 3)) (7.1.2)\n",
      "Requirement already satisfied: requests>=2.17.3 in c:\\users\\user\\anaconda3\\lib\\site-packages (from mlflow==1.20.2->-r requirements.txt (line 3)) (2.24.0)\n",
      "Requirement already satisfied: joblib>=0.11 in c:\\users\\user\\anaconda3\\lib\\site-packages (from scikit-learn==0.24.2->-r requirements.txt (line 6)) (0.17.0)Note: you may need to restart the kernel to use updated packages.\n",
      "Requirement already satisfied: threadpoolctl>=2.0.0 in c:\\users\\user\\anaconda3\\lib\\site-packages (from scikit-learn==0.24.2->-r requirements.txt (line 6)) (2.1.0)\n",
      "Requirement already satisfied: scipy>=0.19.1 in c:\\users\\user\\anaconda3\\lib\\site-packages (from scikit-learn==0.24.2->-r requirements.txt (line 6)) (1.5.2)\n",
      "Requirement already satisfied: six>=1.5 in c:\\users\\user\\anaconda3\\lib\\site-packages (from python-dateutil>=2.7->matplotlib==3.4.2->-r requirements.txt (line 2)) (1.15.0)\n",
      "Requirement already satisfied: prometheus-client in c:\\users\\user\\anaconda3\\lib\\site-packages (from prometheus-flask-exporter->mlflow==1.20.2->-r requirements.txt (line 3)) (0.8.0)\n",
      "Requirement already satisfied: gitdb<5,>=4.0.1 in c:\\users\\user\\anaconda3\\lib\\site-packages (from gitpython>=2.1.0->mlflow==1.20.2->-r requirements.txt (line 3)) (4.0.8)\n",
      "Requirement already satisfied: typing-extensions>=3.7.4.3; python_version < \"3.10\" in c:\\users\\user\\anaconda3\\lib\\site-packages (from gitpython>=2.1.0->mlflow==1.20.2->-r requirements.txt (line 3)) (3.7.4.3)\n",
      "Requirement already satisfied: zipp>=0.5 in c:\\users\\user\\anaconda3\\lib\\site-packages (from importlib-metadata!=4.7.0,>=3.7.0->mlflow==1.20.2->-r requirements.txt (line 3)) (3.4.0)\n",
      "Requirement already satisfied: python-editor>=0.3 in c:\\users\\user\\anaconda3\\lib\\site-packages (from alembic<=1.4.1->mlflow==1.20.2->-r requirements.txt (line 3)) (1.0.4)\n",
      "Requirement already satisfied: Mako in c:\\users\\user\\anaconda3\\lib\\site-packages (from alembic<=1.4.1->mlflow==1.20.2->-r requirements.txt (line 3)) (1.1.5)\n",
      "Requirement already satisfied: websocket-client>=0.32.0 in c:\\users\\user\\anaconda3\\lib\\site-packages (from docker>=4.0.0->mlflow==1.20.2->-r requirements.txt (line 3)) (1.2.1)\n",
      "Requirement already satisfied: pywin32==227; sys_platform == \"win32\" in c:\\users\\user\\anaconda3\\lib\\site-packages (from docker>=4.0.0->mlflow==1.20.2->-r requirements.txt (line 3)) (227)\n",
      "Requirement already satisfied: tabulate>=0.7.7 in c:\\users\\user\\anaconda3\\lib\\site-packages (from databricks-cli>=0.8.7->mlflow==1.20.2->-r requirements.txt (line 3)) (0.8.9)\n",
      "Requirement already satisfied: Jinja2>=2.10.1 in c:\\users\\user\\anaconda3\\lib\\site-packages (from Flask->mlflow==1.20.2->-r requirements.txt (line 3)) (2.11.2)\n",
      "Requirement already satisfied: itsdangerous>=0.24 in c:\\users\\user\\anaconda3\\lib\\site-packages (from Flask->mlflow==1.20.2->-r requirements.txt (line 3)) (1.1.0)\n",
      "Requirement already satisfied: Werkzeug>=0.15 in c:\\users\\user\\anaconda3\\lib\\site-packages (from Flask->mlflow==1.20.2->-r requirements.txt (line 3)) (1.0.1)\n",
      "Requirement already satisfied: chardet<4,>=3.0.2 in c:\\users\\user\\anaconda3\\lib\\site-packages (from requests>=2.17.3->mlflow==1.20.2->-r requirements.txt (line 3)) (3.0.4)\n",
      "Requirement already satisfied: certifi>=2017.4.17 in c:\\users\\user\\anaconda3\\lib\\site-packages (from requests>=2.17.3->mlflow==1.20.2->-r requirements.txt (line 3)) (2020.6.20)\n",
      "Requirement already satisfied: urllib3!=1.25.0,!=1.25.1,<1.26,>=1.21.1 in c:\\users\\user\\anaconda3\\lib\\site-packages (from requests>=2.17.3->mlflow==1.20.2->-r requirements.txt (line 3)) (1.25.11)\n",
      "Requirement already satisfied: idna<3,>=2.5 in c:\\users\\user\\anaconda3\\lib\\site-packages (from requests>=2.17.3->mlflow==1.20.2->-r requirements.txt (line 3)) (2.10)\n",
      "Requirement already satisfied: smmap<6,>=3.0.1 in c:\\users\\user\\anaconda3\\lib\\site-packages (from gitdb<5,>=4.0.1->gitpython>=2.1.0->mlflow==1.20.2->-r requirements.txt (line 3)) (5.0.0)\n",
      "Requirement already satisfied: MarkupSafe>=0.9.2 in c:\\users\\user\\anaconda3\\lib\\site-packages (from Mako->alembic<=1.4.1->mlflow==1.20.2->-r requirements.txt (line 3)) (1.1.1)\n",
      "\n"
     ]
    }
   ],
   "source": [
    "pip install -r requirements.txt"
   ]
  },
  {
   "cell_type": "code",
   "execution_count": 17,
   "metadata": {},
   "outputs": [],
   "source": [
    "# Tratamiento de datos\n",
    "# ==============================================================================\n",
    "import numpy as np\n",
    "import pandas as pd\n",
    "# Preprocesamiento y modelado\n",
    "# ==============================================================================\n",
    "from sklearn.model_selection import train_test_split\n",
    "from sklearn.preprocessing import StandardScaler\n",
    "from sklearn.base import BaseEstimator, TransformerMixin\n",
    "\n",
    "from sklearn.compose import ColumnTransformer\n",
    "from sklearn.pipeline import Pipeline\n",
    "\n",
    "from typing import List\n",
    "from sklearn import set_config\n",
    "set_config(display='diagram')"
   ]
  },
  {
   "cell_type": "code",
   "execution_count": 2,
   "metadata": {
    "scrolled": true
   },
   "outputs": [
    {
     "data": {
      "text/html": [
       "<div>\n",
       "<style scoped>\n",
       "    .dataframe tbody tr th:only-of-type {\n",
       "        vertical-align: middle;\n",
       "    }\n",
       "\n",
       "    .dataframe tbody tr th {\n",
       "        vertical-align: top;\n",
       "    }\n",
       "\n",
       "    .dataframe thead th {\n",
       "        text-align: right;\n",
       "    }\n",
       "</style>\n",
       "<table border=\"1\" class=\"dataframe\">\n",
       "  <thead>\n",
       "    <tr style=\"text-align: right;\">\n",
       "      <th></th>\n",
       "      <th>id</th>\n",
       "      <th>vendor_id</th>\n",
       "      <th>pickup_datetime</th>\n",
       "      <th>dropoff_datetime</th>\n",
       "      <th>passenger_count</th>\n",
       "      <th>pickup_longitude</th>\n",
       "      <th>pickup_latitude</th>\n",
       "      <th>dropoff_longitude</th>\n",
       "      <th>dropoff_latitude</th>\n",
       "      <th>store_and_fwd_flag</th>\n",
       "      <th>trip_duration</th>\n",
       "      <th>pickup_borough</th>\n",
       "      <th>dropoff_borough</th>\n",
       "    </tr>\n",
       "  </thead>\n",
       "  <tbody>\n",
       "    <tr>\n",
       "      <th>0</th>\n",
       "      <td>id2875421</td>\n",
       "      <td>2</td>\n",
       "      <td>2016-03-14 17:24:55</td>\n",
       "      <td>2016-03-14 17:32:30</td>\n",
       "      <td>1</td>\n",
       "      <td>-73.982155</td>\n",
       "      <td>40.767937</td>\n",
       "      <td>-73.964630</td>\n",
       "      <td>40.765602</td>\n",
       "      <td>N</td>\n",
       "      <td>455</td>\n",
       "      <td>Manhattan</td>\n",
       "      <td>Manhattan</td>\n",
       "    </tr>\n",
       "    <tr>\n",
       "      <th>1</th>\n",
       "      <td>id2377394</td>\n",
       "      <td>1</td>\n",
       "      <td>2016-06-12 00:43:35</td>\n",
       "      <td>2016-06-12 00:54:38</td>\n",
       "      <td>1</td>\n",
       "      <td>-73.980415</td>\n",
       "      <td>40.738564</td>\n",
       "      <td>-73.999481</td>\n",
       "      <td>40.731152</td>\n",
       "      <td>N</td>\n",
       "      <td>663</td>\n",
       "      <td>Manhattan</td>\n",
       "      <td>Brooklyn</td>\n",
       "    </tr>\n",
       "    <tr>\n",
       "      <th>2</th>\n",
       "      <td>id3858529</td>\n",
       "      <td>2</td>\n",
       "      <td>2016-01-19 11:35:24</td>\n",
       "      <td>2016-01-19 12:10:48</td>\n",
       "      <td>1</td>\n",
       "      <td>-73.979027</td>\n",
       "      <td>40.763939</td>\n",
       "      <td>-74.005333</td>\n",
       "      <td>40.710087</td>\n",
       "      <td>N</td>\n",
       "      <td>2124</td>\n",
       "      <td>Manhattan</td>\n",
       "      <td>Brooklyn</td>\n",
       "    </tr>\n",
       "    <tr>\n",
       "      <th>3</th>\n",
       "      <td>id3504673</td>\n",
       "      <td>2</td>\n",
       "      <td>2016-04-06 19:32:31</td>\n",
       "      <td>2016-04-06 19:39:40</td>\n",
       "      <td>1</td>\n",
       "      <td>-74.010040</td>\n",
       "      <td>40.719971</td>\n",
       "      <td>-74.012268</td>\n",
       "      <td>40.706718</td>\n",
       "      <td>N</td>\n",
       "      <td>429</td>\n",
       "      <td>Brooklyn</td>\n",
       "      <td>Brooklyn</td>\n",
       "    </tr>\n",
       "    <tr>\n",
       "      <th>4</th>\n",
       "      <td>id2181028</td>\n",
       "      <td>2</td>\n",
       "      <td>2016-03-26 13:30:55</td>\n",
       "      <td>2016-03-26 13:38:10</td>\n",
       "      <td>1</td>\n",
       "      <td>-73.973053</td>\n",
       "      <td>40.793209</td>\n",
       "      <td>-73.972923</td>\n",
       "      <td>40.782520</td>\n",
       "      <td>N</td>\n",
       "      <td>435</td>\n",
       "      <td>Manhattan</td>\n",
       "      <td>Manhattan</td>\n",
       "    </tr>\n",
       "  </tbody>\n",
       "</table>\n",
       "</div>"
      ],
      "text/plain": [
       "          id  vendor_id      pickup_datetime     dropoff_datetime  \\\n",
       "0  id2875421          2  2016-03-14 17:24:55  2016-03-14 17:32:30   \n",
       "1  id2377394          1  2016-06-12 00:43:35  2016-06-12 00:54:38   \n",
       "2  id3858529          2  2016-01-19 11:35:24  2016-01-19 12:10:48   \n",
       "3  id3504673          2  2016-04-06 19:32:31  2016-04-06 19:39:40   \n",
       "4  id2181028          2  2016-03-26 13:30:55  2016-03-26 13:38:10   \n",
       "\n",
       "   passenger_count  pickup_longitude  pickup_latitude  dropoff_longitude  \\\n",
       "0                1        -73.982155        40.767937         -73.964630   \n",
       "1                1        -73.980415        40.738564         -73.999481   \n",
       "2                1        -73.979027        40.763939         -74.005333   \n",
       "3                1        -74.010040        40.719971         -74.012268   \n",
       "4                1        -73.973053        40.793209         -73.972923   \n",
       "\n",
       "   dropoff_latitude store_and_fwd_flag  trip_duration pickup_borough  \\\n",
       "0         40.765602                  N            455      Manhattan   \n",
       "1         40.731152                  N            663      Manhattan   \n",
       "2         40.710087                  N           2124      Manhattan   \n",
       "3         40.706718                  N            429       Brooklyn   \n",
       "4         40.782520                  N            435      Manhattan   \n",
       "\n",
       "  dropoff_borough  \n",
       "0       Manhattan  \n",
       "1        Brooklyn  \n",
       "2        Brooklyn  \n",
       "3        Brooklyn  \n",
       "4       Manhattan  "
      ]
     },
     "execution_count": 2,
     "metadata": {},
     "output_type": "execute_result"
    }
   ],
   "source": [
    "data = pd.read_csv(\n",
    "    \"https://factored-workshops.s3.amazonaws.com/taxi-trip-duration.csv\"\n",
    ")\n",
    "# Limitar rango de datos\n",
    "tiempo_minimo = 60 # 1 minuto\n",
    "tiempo_maximo = 36000 # 10 horas\n",
    "data = data[\n",
    "    (data[\"trip_duration\"] > tiempo_minimo) &\n",
    "    (data[\"trip_duration\"] < tiempo_maximo)\n",
    "]\n",
    "data.head()"
   ]
  },
  {
   "cell_type": "markdown",
   "metadata": {},
   "source": [
    "### División de los datos"
   ]
  },
  {
   "cell_type": "code",
   "execution_count": 3,
   "metadata": {},
   "outputs": [],
   "source": [
    "y = data[\"trip_duration\"]\n",
    "input_df = data.drop(\n",
    "    [\"id\", \"trip_duration\", \"dropoff_datetime\", \"store_and_fwd_flag\"],\n",
    "    axis=\"columns\"\n",
    ")"
   ]
  },
  {
   "cell_type": "code",
   "execution_count": 4,
   "metadata": {},
   "outputs": [],
   "source": [
    "train_df, val_df, y_train, y_val = train_test_split(input_df, y, random_state=0)"
   ]
  },
  {
   "cell_type": "markdown",
   "metadata": {},
   "source": [
    "### Transformers"
   ]
  },
  {
   "cell_type": "code",
   "execution_count": 5,
   "metadata": {},
   "outputs": [
    {
     "name": "stdout",
     "output_type": "stream",
     "text": [
      "[[-0.30923835 -0.27478234]\n",
      " [-0.13589444  0.75675283]\n",
      " [ 0.24599071  0.58169127]\n",
      " ...\n",
      " [-0.19727957 -0.13002453]\n",
      " [-0.03955223 -0.08161096]\n",
      " [-0.11150857 -0.79791458]]\n"
     ]
    }
   ],
   "source": [
    "transformer = StandardScaler()\n",
    "transformer.fit(\n",
    "    train_df[[\"pickup_longitude\", \"pickup_latitude\"]]\n",
    ")\n",
    "normed_array = transformer.transform(\n",
    "    val_df[[\"pickup_longitude\", \"pickup_latitude\"]]\n",
    ")\n",
    "print(normed_array)"
   ]
  },
  {
   "cell_type": "markdown",
   "metadata": {},
   "source": [
    "### Custom Transformers"
   ]
  },
  {
   "cell_type": "code",
   "execution_count": 6,
   "metadata": {},
   "outputs": [],
   "source": [
    "class PrimerTransformer(BaseEstimator, TransformerMixin):\n",
    "    def fit(self, X, y=None):\n",
    "        self.mean = X.mean()\n",
    "        self.std = X.std()\n",
    "        return self\n",
    "\n",
    "    def transform(self, X, y=None):\n",
    "        return (X - self.mean) / self.std"
   ]
  },
  {
   "cell_type": "markdown",
   "metadata": {},
   "source": [
    "<b>Checkpoint #1<b>"
   ]
  },
  {
   "cell_type": "code",
   "execution_count": 7,
   "metadata": {},
   "outputs": [],
   "source": [
    "primer_transformer = PrimerTransformer()\n",
    "train_normed_df = primer_transformer.fit_transform(\n",
    "    train_df[[\"pickup_longitude\", \"pickup_latitude\"]]\n",
    ")\n",
    "val_normed_df = primer_transformer.transform(\n",
    "    val_df[[\"pickup_longitude\", \"pickup_latitude\"]]\n",
    ")"
   ]
  },
  {
   "cell_type": "markdown",
   "metadata": {},
   "source": [
    "### Transformer Fechas"
   ]
  },
  {
   "cell_type": "code",
   "execution_count": 8,
   "metadata": {},
   "outputs": [],
   "source": [
    "\n",
    "class TransformerFechas(BaseEstimator, TransformerMixin):\n",
    "    def fit(self, X, y=None):\n",
    "        return self\n",
    "\n",
    "    def transform(self, X, y=None):\n",
    "        columna_fecha = pd.to_datetime(X[\"pickup_datetime\"])\n",
    "        fecha_df = pd.DataFrame()\n",
    "        fecha_df[\"weekday\"] = columna_fecha.dt.weekday\n",
    "        fecha_df[\"hour\"] = columna_fecha.dt.hour\n",
    "        # TODO: Crear columnas con dia de la semana y hora de recogida.\n",
    "        return fecha_df"
   ]
  },
  {
   "cell_type": "code",
   "execution_count": 9,
   "metadata": {},
   "outputs": [
    {
     "data": {
      "text/html": [
       "<div>\n",
       "<style scoped>\n",
       "    .dataframe tbody tr th:only-of-type {\n",
       "        vertical-align: middle;\n",
       "    }\n",
       "\n",
       "    .dataframe tbody tr th {\n",
       "        vertical-align: top;\n",
       "    }\n",
       "\n",
       "    .dataframe thead th {\n",
       "        text-align: right;\n",
       "    }\n",
       "</style>\n",
       "<table border=\"1\" class=\"dataframe\">\n",
       "  <thead>\n",
       "    <tr style=\"text-align: right;\">\n",
       "      <th></th>\n",
       "      <th>weekday</th>\n",
       "      <th>hour</th>\n",
       "    </tr>\n",
       "  </thead>\n",
       "  <tbody>\n",
       "    <tr>\n",
       "      <th>518949</th>\n",
       "      <td>3</td>\n",
       "      <td>21</td>\n",
       "    </tr>\n",
       "    <tr>\n",
       "      <th>1128931</th>\n",
       "      <td>6</td>\n",
       "      <td>21</td>\n",
       "    </tr>\n",
       "    <tr>\n",
       "      <th>574396</th>\n",
       "      <td>1</td>\n",
       "      <td>18</td>\n",
       "    </tr>\n",
       "    <tr>\n",
       "      <th>54790</th>\n",
       "      <td>6</td>\n",
       "      <td>17</td>\n",
       "    </tr>\n",
       "    <tr>\n",
       "      <th>599130</th>\n",
       "      <td>0</td>\n",
       "      <td>16</td>\n",
       "    </tr>\n",
       "  </tbody>\n",
       "</table>\n",
       "</div>"
      ],
      "text/plain": [
       "         weekday  hour\n",
       "518949         3    21\n",
       "1128931        6    21\n",
       "574396         1    18\n",
       "54790          6    17\n",
       "599130         0    16"
      ]
     },
     "execution_count": 9,
     "metadata": {},
     "output_type": "execute_result"
    }
   ],
   "source": [
    "transformer_fechas = TransformerFechas()\n",
    "fechas_df = transformer_fechas.fit_transform(train_df)\n",
    "fechas_df.head()"
   ]
  },
  {
   "cell_type": "markdown",
   "metadata": {},
   "source": [
    "### Transformer Distancia"
   ]
  },
  {
   "cell_type": "code",
   "execution_count": 13,
   "metadata": {},
   "outputs": [],
   "source": [
    "class TransformerDistancia(BaseEstimator, TransformerMixin):\n",
    "    def fit(self, X, y=None):\n",
    "        return self\n",
    "\n",
    "    def transform(self, X, y=None):\n",
    "        X_init = X[[\"pickup_latitude\", \"pickup_longitude\"]].to_numpy()\n",
    "        X_final = X[[\"dropoff_latitude\", \"dropoff_longitude\"]].to_numpy()\n",
    "\n",
    "        # Distancia de Haversine\n",
    "        # TODO: Calcular la variable distancia usando la funcion\n",
    "        # distancia de Haversine.\n",
    "        distancia = self.distancia_haversine(X_init=X_init, X_final=X_final)\n",
    "        distancia_df = pd.DataFrame()\n",
    "        distancia_df[\"distancia\"] = distancia\n",
    "        return distancia_df\n",
    "    \n",
    "    def distancia_haversine(self, X_init, X_final):\n",
    "        # Convertir de decimal a radianes\n",
    "        X_init = np.radians(X_init)\n",
    "        X_final = np.radians(X_final)\n",
    "\n",
    "        # Formula Haversine\n",
    "        dlat = X_final[:, 0] - X_init[:, 0] \n",
    "        dlon = X_final[:, 1] - X_init[:, 1]\n",
    "        a = np.sin(dlat / 2) ** 2 + np.cos(X_init[:, 0]) * np.cos(X_final[:, 0]) * np.sin(dlon / 2) ** 2\n",
    "        c = 2 * np.arcsin(np.sqrt(a))\n",
    "        r = 6371 # Radius of earth in kilometers. Use 3956 for miles. Determines return value units.\n",
    "        return c * r"
   ]
  },
  {
   "cell_type": "code",
   "execution_count": 14,
   "metadata": {},
   "outputs": [
    {
     "data": {
      "text/html": [
       "<div>\n",
       "<style scoped>\n",
       "    .dataframe tbody tr th:only-of-type {\n",
       "        vertical-align: middle;\n",
       "    }\n",
       "\n",
       "    .dataframe tbody tr th {\n",
       "        vertical-align: top;\n",
       "    }\n",
       "\n",
       "    .dataframe thead th {\n",
       "        text-align: right;\n",
       "    }\n",
       "</style>\n",
       "<table border=\"1\" class=\"dataframe\">\n",
       "  <thead>\n",
       "    <tr style=\"text-align: right;\">\n",
       "      <th></th>\n",
       "      <th>distancia</th>\n",
       "    </tr>\n",
       "  </thead>\n",
       "  <tbody>\n",
       "    <tr>\n",
       "      <th>0</th>\n",
       "      <td>2.404355</td>\n",
       "    </tr>\n",
       "    <tr>\n",
       "      <th>1</th>\n",
       "      <td>0.390267</td>\n",
       "    </tr>\n",
       "    <tr>\n",
       "      <th>2</th>\n",
       "      <td>5.629826</td>\n",
       "    </tr>\n",
       "    <tr>\n",
       "      <th>3</th>\n",
       "      <td>4.298386</td>\n",
       "    </tr>\n",
       "    <tr>\n",
       "      <th>4</th>\n",
       "      <td>7.488963</td>\n",
       "    </tr>\n",
       "  </tbody>\n",
       "</table>\n",
       "</div>"
      ],
      "text/plain": [
       "   distancia\n",
       "0   2.404355\n",
       "1   0.390267\n",
       "2   5.629826\n",
       "3   4.298386\n",
       "4   7.488963"
      ]
     },
     "execution_count": 14,
     "metadata": {},
     "output_type": "execute_result"
    }
   ],
   "source": [
    "transformer_dist = TransformerDistancia()\n",
    "distancias_df = transformer_dist.fit_transform(train_df)\n",
    "distancias_df.head()"
   ]
  },
  {
   "cell_type": "markdown",
   "metadata": {},
   "source": [
    "<b>Checkpoint #2.2</b>"
   ]
  },
  {
   "cell_type": "code",
   "execution_count": 16,
   "metadata": {},
   "outputs": [],
   "source": [
    "class TransformerDistancia(BaseEstimator, TransformerMixin): \n",
    "    def fit(self, X, y=None):\n",
    "        return self\n",
    "\n",
    "    def transform(self, X, y=None):\n",
    "        X_init = X[[\"pickup_latitude\", \"pickup_longitude\"]].to_numpy()\n",
    "        X_final = X[[\"dropoff_latitude\", \"dropoff_longitude\"]].to_numpy()\n",
    "    \n",
    "        # Distancia de Haversine\n",
    "        distancia = self.distancia_haversine(X_init=X_init, X_final=X_final)\n",
    "        distancia_df = pd.DataFrame()\n",
    "        distancia_df[\"distancia\"] = distancia\n",
    "        return distancia_df\n",
    "    \n",
    "    def distancia_haversine(self, X_init, X_final):\n",
    "        # Convertir de decimal a radianes\n",
    "        X_init = np.radians(X_init)\n",
    "        X_final = np.radians(X_final)\n",
    "    \n",
    "        # haversine formula \n",
    "        dlat = X_final[:, 0] - X_init[:, 0] \n",
    "        dlon = X_final[:, 1] - X_init[:, 1]\n",
    "        a = np.sin(dlat / 2) ** 2 + np.cos(X_init[:, 0]) * np.cos(X_final[:, 0]) * np.sin(dlon / 2) ** 2\n",
    "        c = 2 * np.arcsin(np.sqrt(a))\n",
    "        r = 6371 # Radius of earth in kilometers. Use 3956 for miles. Determines return value units.\n",
    "        return c * r"
   ]
  },
  {
   "cell_type": "markdown",
   "metadata": {},
   "source": [
    "### Unión de transformers con Pipelines"
   ]
  },
  {
   "cell_type": "markdown",
   "metadata": {},
   "source": [
    "<b>Pipeline Numérico</b>"
   ]
  },
  {
   "cell_type": "code",
   "execution_count": 18,
   "metadata": {},
   "outputs": [
    {
     "data": {
      "text/html": [
       "<style>#sk-050aa17b-9386-46dd-9914-4d1b71757ebc {color: black;background-color: white;}#sk-050aa17b-9386-46dd-9914-4d1b71757ebc pre{padding: 0;}#sk-050aa17b-9386-46dd-9914-4d1b71757ebc div.sk-toggleable {background-color: white;}#sk-050aa17b-9386-46dd-9914-4d1b71757ebc label.sk-toggleable__label {cursor: pointer;display: block;width: 100%;margin-bottom: 0;padding: 0.2em 0.3em;box-sizing: border-box;text-align: center;}#sk-050aa17b-9386-46dd-9914-4d1b71757ebc div.sk-toggleable__content {max-height: 0;max-width: 0;overflow: hidden;text-align: left;background-color: #f0f8ff;}#sk-050aa17b-9386-46dd-9914-4d1b71757ebc div.sk-toggleable__content pre {margin: 0.2em;color: black;border-radius: 0.25em;background-color: #f0f8ff;}#sk-050aa17b-9386-46dd-9914-4d1b71757ebc input.sk-toggleable__control:checked~div.sk-toggleable__content {max-height: 200px;max-width: 100%;overflow: auto;}#sk-050aa17b-9386-46dd-9914-4d1b71757ebc div.sk-estimator input.sk-toggleable__control:checked~label.sk-toggleable__label {background-color: #d4ebff;}#sk-050aa17b-9386-46dd-9914-4d1b71757ebc div.sk-label input.sk-toggleable__control:checked~label.sk-toggleable__label {background-color: #d4ebff;}#sk-050aa17b-9386-46dd-9914-4d1b71757ebc input.sk-hidden--visually {border: 0;clip: rect(1px 1px 1px 1px);clip: rect(1px, 1px, 1px, 1px);height: 1px;margin: -1px;overflow: hidden;padding: 0;position: absolute;width: 1px;}#sk-050aa17b-9386-46dd-9914-4d1b71757ebc div.sk-estimator {font-family: monospace;background-color: #f0f8ff;margin: 0.25em 0.25em;border: 1px dotted black;border-radius: 0.25em;box-sizing: border-box;}#sk-050aa17b-9386-46dd-9914-4d1b71757ebc div.sk-estimator:hover {background-color: #d4ebff;}#sk-050aa17b-9386-46dd-9914-4d1b71757ebc div.sk-parallel-item::after {content: \"\";width: 100%;border-bottom: 1px solid gray;flex-grow: 1;}#sk-050aa17b-9386-46dd-9914-4d1b71757ebc div.sk-label:hover label.sk-toggleable__label {background-color: #d4ebff;}#sk-050aa17b-9386-46dd-9914-4d1b71757ebc div.sk-serial::before {content: \"\";position: absolute;border-left: 1px solid gray;box-sizing: border-box;top: 2em;bottom: 0;left: 50%;}#sk-050aa17b-9386-46dd-9914-4d1b71757ebc div.sk-serial {display: flex;flex-direction: column;align-items: center;background-color: white;}#sk-050aa17b-9386-46dd-9914-4d1b71757ebc div.sk-item {z-index: 1;}#sk-050aa17b-9386-46dd-9914-4d1b71757ebc div.sk-parallel {display: flex;align-items: stretch;justify-content: center;background-color: white;}#sk-050aa17b-9386-46dd-9914-4d1b71757ebc div.sk-parallel-item {display: flex;flex-direction: column;position: relative;background-color: white;}#sk-050aa17b-9386-46dd-9914-4d1b71757ebc div.sk-parallel-item:first-child::after {align-self: flex-end;width: 50%;}#sk-050aa17b-9386-46dd-9914-4d1b71757ebc div.sk-parallel-item:last-child::after {align-self: flex-start;width: 50%;}#sk-050aa17b-9386-46dd-9914-4d1b71757ebc div.sk-parallel-item:only-child::after {width: 0;}#sk-050aa17b-9386-46dd-9914-4d1b71757ebc div.sk-dashed-wrapped {border: 1px dashed gray;margin: 0.2em;box-sizing: border-box;padding-bottom: 0.1em;background-color: white;position: relative;}#sk-050aa17b-9386-46dd-9914-4d1b71757ebc div.sk-label label {font-family: monospace;font-weight: bold;background-color: white;display: inline-block;line-height: 1.2em;}#sk-050aa17b-9386-46dd-9914-4d1b71757ebc div.sk-label-container {position: relative;z-index: 2;text-align: center;}#sk-050aa17b-9386-46dd-9914-4d1b71757ebc div.sk-container {display: inline-block;position: relative;}</style><div id=\"sk-050aa17b-9386-46dd-9914-4d1b71757ebc\" class\"sk-top-container\"><div class=\"sk-container\"><div class=\"sk-item sk-dashed-wrapped\"><div class=\"sk-label-container\"><div class=\"sk-label sk-toggleable\"><input class=\"sk-toggleable__control sk-hidden--visually\" id=\"2ecf122c-6e26-43ed-b654-98dee87a5493\" type=\"checkbox\" ><label class=\"sk-toggleable__label\" for=\"2ecf122c-6e26-43ed-b654-98dee87a5493\">ColumnTransformer</label><div class=\"sk-toggleable__content\"><pre>ColumnTransformer(remainder='passthrough',\n",
       "                  transformers=[('transformer_dist', TransformerDistancia(),\n",
       "                                 ['pickup_longitude', 'pickup_latitude',\n",
       "                                  'dropoff_longitude', 'dropoff_latitude'])])</pre></div></div></div><div class=\"sk-parallel\"><div class=\"sk-parallel-item\"><div class=\"sk-item\"><div class=\"sk-label-container\"><div class=\"sk-label sk-toggleable\"><input class=\"sk-toggleable__control sk-hidden--visually\" id=\"6c09336f-fbf2-45e3-96c1-cf94b4c4c1fe\" type=\"checkbox\" ><label class=\"sk-toggleable__label\" for=\"6c09336f-fbf2-45e3-96c1-cf94b4c4c1fe\">transformer_dist</label><div class=\"sk-toggleable__content\"><pre>['pickup_longitude', 'pickup_latitude', 'dropoff_longitude', 'dropoff_latitude']</pre></div></div></div><div class=\"sk-serial\"><div class=\"sk-item\"><div class=\"sk-estimator sk-toggleable\"><input class=\"sk-toggleable__control sk-hidden--visually\" id=\"976e51c7-1ef4-449e-b027-186bce11806e\" type=\"checkbox\" ><label class=\"sk-toggleable__label\" for=\"976e51c7-1ef4-449e-b027-186bce11806e\">TransformerDistancia</label><div class=\"sk-toggleable__content\"><pre>TransformerDistancia()</pre></div></div></div></div></div></div><div class=\"sk-parallel-item\"><div class=\"sk-item\"><div class=\"sk-label-container\"><div class=\"sk-label sk-toggleable\"><input class=\"sk-toggleable__control sk-hidden--visually\" id=\"290fef64-ef67-444e-bbb3-de299a6b4b13\" type=\"checkbox\" ><label class=\"sk-toggleable__label\" for=\"290fef64-ef67-444e-bbb3-de299a6b4b13\">remainder</label><div class=\"sk-toggleable__content\"><pre></pre></div></div></div><div class=\"sk-serial\"><div class=\"sk-item\"><div class=\"sk-estimator sk-toggleable\"><input class=\"sk-toggleable__control sk-hidden--visually\" id=\"05bbe3f8-003f-42e0-bb35-087b83af0e52\" type=\"checkbox\" ><label class=\"sk-toggleable__label\" for=\"05bbe3f8-003f-42e0-bb35-087b83af0e52\">passthrough</label><div class=\"sk-toggleable__content\"><pre>passthrough</pre></div></div></div></div></div></div></div></div></div></div>"
      ],
      "text/plain": [
       "ColumnTransformer(remainder='passthrough',\n",
       "                  transformers=[('transformer_dist', TransformerDistancia(),\n",
       "                                 ['pickup_longitude', 'pickup_latitude',\n",
       "                                  'dropoff_longitude', 'dropoff_latitude'])])"
      ]
     },
     "metadata": {},
     "output_type": "display_data"
    }
   ],
   "source": [
    "coord_cols = [\n",
    "    \"pickup_longitude\",\n",
    "    \"pickup_latitude\",\n",
    "    \"dropoff_longitude\",\n",
    "    \"dropoff_latitude\"\n",
    "]\n",
    "\n",
    "transformer_coord = ColumnTransformer(\n",
    "    [\n",
    "        (\"transformer_dist\", TransformerDistancia(), coord_cols),\n",
    "    ],\n",
    "    remainder=\"passthrough\"\n",
    ")\n",
    "display(transformer_coord)"
   ]
  },
  {
   "cell_type": "code",
   "execution_count": 19,
   "metadata": {},
   "outputs": [
    {
     "name": "stdout",
     "output_type": "stream",
     "text": [
      "[[-0.25154928 -0.50616698]\n",
      " [-0.73141214  0.25385023]\n",
      " [ 0.51692963 -0.50616698]\n",
      " ...\n",
      " [-0.41058443 -0.50616698]\n",
      " [-0.3461049  -0.50616698]\n",
      " [ 1.33898968  0.25385023]]\n"
     ]
    }
   ],
   "source": [
    "num_cols = [\"passenger_count\"] + coord_cols\n",
    "\n",
    "num_pipeline = Pipeline(\n",
    "    [\n",
    "        (\"transformer_coord\", transformer_coord),\n",
    "        (\"scaler\", StandardScaler())\n",
    "    ]\n",
    ")\n",
    "\n",
    "X_num = num_pipeline.fit_transform(train_df[num_cols], y_train)\n",
    "print(X_num)"
   ]
  },
  {
   "cell_type": "code",
   "execution_count": 20,
   "metadata": {},
   "outputs": [
    {
     "data": {
      "text/html": [
       "<style>#sk-bdefe74d-eda2-4c0a-b8be-6855d3506a80 {color: black;background-color: white;}#sk-bdefe74d-eda2-4c0a-b8be-6855d3506a80 pre{padding: 0;}#sk-bdefe74d-eda2-4c0a-b8be-6855d3506a80 div.sk-toggleable {background-color: white;}#sk-bdefe74d-eda2-4c0a-b8be-6855d3506a80 label.sk-toggleable__label {cursor: pointer;display: block;width: 100%;margin-bottom: 0;padding: 0.2em 0.3em;box-sizing: border-box;text-align: center;}#sk-bdefe74d-eda2-4c0a-b8be-6855d3506a80 div.sk-toggleable__content {max-height: 0;max-width: 0;overflow: hidden;text-align: left;background-color: #f0f8ff;}#sk-bdefe74d-eda2-4c0a-b8be-6855d3506a80 div.sk-toggleable__content pre {margin: 0.2em;color: black;border-radius: 0.25em;background-color: #f0f8ff;}#sk-bdefe74d-eda2-4c0a-b8be-6855d3506a80 input.sk-toggleable__control:checked~div.sk-toggleable__content {max-height: 200px;max-width: 100%;overflow: auto;}#sk-bdefe74d-eda2-4c0a-b8be-6855d3506a80 div.sk-estimator input.sk-toggleable__control:checked~label.sk-toggleable__label {background-color: #d4ebff;}#sk-bdefe74d-eda2-4c0a-b8be-6855d3506a80 div.sk-label input.sk-toggleable__control:checked~label.sk-toggleable__label {background-color: #d4ebff;}#sk-bdefe74d-eda2-4c0a-b8be-6855d3506a80 input.sk-hidden--visually {border: 0;clip: rect(1px 1px 1px 1px);clip: rect(1px, 1px, 1px, 1px);height: 1px;margin: -1px;overflow: hidden;padding: 0;position: absolute;width: 1px;}#sk-bdefe74d-eda2-4c0a-b8be-6855d3506a80 div.sk-estimator {font-family: monospace;background-color: #f0f8ff;margin: 0.25em 0.25em;border: 1px dotted black;border-radius: 0.25em;box-sizing: border-box;}#sk-bdefe74d-eda2-4c0a-b8be-6855d3506a80 div.sk-estimator:hover {background-color: #d4ebff;}#sk-bdefe74d-eda2-4c0a-b8be-6855d3506a80 div.sk-parallel-item::after {content: \"\";width: 100%;border-bottom: 1px solid gray;flex-grow: 1;}#sk-bdefe74d-eda2-4c0a-b8be-6855d3506a80 div.sk-label:hover label.sk-toggleable__label {background-color: #d4ebff;}#sk-bdefe74d-eda2-4c0a-b8be-6855d3506a80 div.sk-serial::before {content: \"\";position: absolute;border-left: 1px solid gray;box-sizing: border-box;top: 2em;bottom: 0;left: 50%;}#sk-bdefe74d-eda2-4c0a-b8be-6855d3506a80 div.sk-serial {display: flex;flex-direction: column;align-items: center;background-color: white;}#sk-bdefe74d-eda2-4c0a-b8be-6855d3506a80 div.sk-item {z-index: 1;}#sk-bdefe74d-eda2-4c0a-b8be-6855d3506a80 div.sk-parallel {display: flex;align-items: stretch;justify-content: center;background-color: white;}#sk-bdefe74d-eda2-4c0a-b8be-6855d3506a80 div.sk-parallel-item {display: flex;flex-direction: column;position: relative;background-color: white;}#sk-bdefe74d-eda2-4c0a-b8be-6855d3506a80 div.sk-parallel-item:first-child::after {align-self: flex-end;width: 50%;}#sk-bdefe74d-eda2-4c0a-b8be-6855d3506a80 div.sk-parallel-item:last-child::after {align-self: flex-start;width: 50%;}#sk-bdefe74d-eda2-4c0a-b8be-6855d3506a80 div.sk-parallel-item:only-child::after {width: 0;}#sk-bdefe74d-eda2-4c0a-b8be-6855d3506a80 div.sk-dashed-wrapped {border: 1px dashed gray;margin: 0.2em;box-sizing: border-box;padding-bottom: 0.1em;background-color: white;position: relative;}#sk-bdefe74d-eda2-4c0a-b8be-6855d3506a80 div.sk-label label {font-family: monospace;font-weight: bold;background-color: white;display: inline-block;line-height: 1.2em;}#sk-bdefe74d-eda2-4c0a-b8be-6855d3506a80 div.sk-label-container {position: relative;z-index: 2;text-align: center;}#sk-bdefe74d-eda2-4c0a-b8be-6855d3506a80 div.sk-container {display: inline-block;position: relative;}</style><div id=\"sk-bdefe74d-eda2-4c0a-b8be-6855d3506a80\" class\"sk-top-container\"><div class=\"sk-container\"><div class=\"sk-item sk-dashed-wrapped\"><div class=\"sk-label-container\"><div class=\"sk-label sk-toggleable\"><input class=\"sk-toggleable__control sk-hidden--visually\" id=\"33cd81b0-ad44-4f5a-9766-7651cabb0629\" type=\"checkbox\" ><label class=\"sk-toggleable__label\" for=\"33cd81b0-ad44-4f5a-9766-7651cabb0629\">Pipeline</label><div class=\"sk-toggleable__content\"><pre>Pipeline(steps=[('transformer_coord',\n",
       "                 ColumnTransformer(remainder='passthrough',\n",
       "                                   transformers=[('transformer_dist',\n",
       "                                                  TransformerDistancia(),\n",
       "                                                  ['pickup_longitude',\n",
       "                                                   'pickup_latitude',\n",
       "                                                   'dropoff_longitude',\n",
       "                                                   'dropoff_latitude'])])),\n",
       "                ('scaler', StandardScaler())])</pre></div></div></div><div class=\"sk-serial\"><div class=\"sk-item sk-dashed-wrapped\"><div class=\"sk-label-container\"><div class=\"sk-label sk-toggleable\"><input class=\"sk-toggleable__control sk-hidden--visually\" id=\"56825ace-1374-4f73-b7da-74de1b9e4843\" type=\"checkbox\" ><label class=\"sk-toggleable__label\" for=\"56825ace-1374-4f73-b7da-74de1b9e4843\">transformer_coord: ColumnTransformer</label><div class=\"sk-toggleable__content\"><pre>ColumnTransformer(remainder='passthrough',\n",
       "                  transformers=[('transformer_dist', TransformerDistancia(),\n",
       "                                 ['pickup_longitude', 'pickup_latitude',\n",
       "                                  'dropoff_longitude', 'dropoff_latitude'])])</pre></div></div></div><div class=\"sk-parallel\"><div class=\"sk-parallel-item\"><div class=\"sk-item\"><div class=\"sk-label-container\"><div class=\"sk-label sk-toggleable\"><input class=\"sk-toggleable__control sk-hidden--visually\" id=\"8c56f041-52fa-4c53-90f6-bc2be811769a\" type=\"checkbox\" ><label class=\"sk-toggleable__label\" for=\"8c56f041-52fa-4c53-90f6-bc2be811769a\">transformer_dist</label><div class=\"sk-toggleable__content\"><pre>['pickup_longitude', 'pickup_latitude', 'dropoff_longitude', 'dropoff_latitude']</pre></div></div></div><div class=\"sk-serial\"><div class=\"sk-item\"><div class=\"sk-estimator sk-toggleable\"><input class=\"sk-toggleable__control sk-hidden--visually\" id=\"ce996eb6-dd7f-43ca-804c-360a0e863181\" type=\"checkbox\" ><label class=\"sk-toggleable__label\" for=\"ce996eb6-dd7f-43ca-804c-360a0e863181\">TransformerDistancia</label><div class=\"sk-toggleable__content\"><pre>TransformerDistancia()</pre></div></div></div></div></div></div><div class=\"sk-parallel-item\"><div class=\"sk-item\"><div class=\"sk-label-container\"><div class=\"sk-label sk-toggleable\"><input class=\"sk-toggleable__control sk-hidden--visually\" id=\"65910648-f0be-4e98-958b-8b36de9016ea\" type=\"checkbox\" ><label class=\"sk-toggleable__label\" for=\"65910648-f0be-4e98-958b-8b36de9016ea\">remainder</label><div class=\"sk-toggleable__content\"><pre>['passenger_count']</pre></div></div></div><div class=\"sk-serial\"><div class=\"sk-item\"><div class=\"sk-estimator sk-toggleable\"><input class=\"sk-toggleable__control sk-hidden--visually\" id=\"7475f9dd-e10d-481e-b38a-18fe227a1f3f\" type=\"checkbox\" ><label class=\"sk-toggleable__label\" for=\"7475f9dd-e10d-481e-b38a-18fe227a1f3f\">passthrough</label><div class=\"sk-toggleable__content\"><pre>passthrough</pre></div></div></div></div></div></div></div></div><div class=\"sk-item\"><div class=\"sk-estimator sk-toggleable\"><input class=\"sk-toggleable__control sk-hidden--visually\" id=\"55810765-c0fd-4147-83ce-7ceb071e6c55\" type=\"checkbox\" ><label class=\"sk-toggleable__label\" for=\"55810765-c0fd-4147-83ce-7ceb071e6c55\">StandardScaler</label><div class=\"sk-toggleable__content\"><pre>StandardScaler()</pre></div></div></div></div></div></div></div>"
      ],
      "text/plain": [
       "Pipeline(steps=[('transformer_coord',\n",
       "                 ColumnTransformer(remainder='passthrough',\n",
       "                                   transformers=[('transformer_dist',\n",
       "                                                  TransformerDistancia(),\n",
       "                                                  ['pickup_longitude',\n",
       "                                                   'pickup_latitude',\n",
       "                                                   'dropoff_longitude',\n",
       "                                                   'dropoff_latitude'])])),\n",
       "                ('scaler', StandardScaler())])"
      ]
     },
     "metadata": {},
     "output_type": "display_data"
    }
   ],
   "source": [
    "display(num_pipeline)"
   ]
  },
  {
   "cell_type": "markdown",
   "metadata": {},
   "source": [
    "### Pipeline Categórico"
   ]
  },
  {
   "cell_type": "code",
   "execution_count": 22,
   "metadata": {},
   "outputs": [],
   "source": [
    "from sklearn.preprocessing import OrdinalEncoder\n",
    "\n",
    "cat_cols = [\"vendor_id\", \"pickup_borough\", \"pickup_datetime\"]\n",
    "\n",
    "transformer_fechas = ColumnTransformer(\n",
    "    [\n",
    "        #TODO: Punto 1 de Checkpoint 3\n",
    "    ],\n",
    "    remainder=\"passthrough\"\n",
    ")\n",
    "\n",
    "cat_pipeline = Pipeline(\n",
    "    [\n",
    "        ('transformer_fechas', transformer_fechas),\n",
    "        ('Ordinal',OrdinalEncoder())\n",
    "    ]\n",
    ")\n",
    "\n",
    "X_cat = cat_pipeline.fit_transform(train_df[cat_cols])"
   ]
  },
  {
   "cell_type": "code",
   "execution_count": 23,
   "metadata": {},
   "outputs": [
    {
     "data": {
      "text/html": [
       "<style>#sk-32865e95-29d1-4d82-aaa2-729501528e80 {color: black;background-color: white;}#sk-32865e95-29d1-4d82-aaa2-729501528e80 pre{padding: 0;}#sk-32865e95-29d1-4d82-aaa2-729501528e80 div.sk-toggleable {background-color: white;}#sk-32865e95-29d1-4d82-aaa2-729501528e80 label.sk-toggleable__label {cursor: pointer;display: block;width: 100%;margin-bottom: 0;padding: 0.2em 0.3em;box-sizing: border-box;text-align: center;}#sk-32865e95-29d1-4d82-aaa2-729501528e80 div.sk-toggleable__content {max-height: 0;max-width: 0;overflow: hidden;text-align: left;background-color: #f0f8ff;}#sk-32865e95-29d1-4d82-aaa2-729501528e80 div.sk-toggleable__content pre {margin: 0.2em;color: black;border-radius: 0.25em;background-color: #f0f8ff;}#sk-32865e95-29d1-4d82-aaa2-729501528e80 input.sk-toggleable__control:checked~div.sk-toggleable__content {max-height: 200px;max-width: 100%;overflow: auto;}#sk-32865e95-29d1-4d82-aaa2-729501528e80 div.sk-estimator input.sk-toggleable__control:checked~label.sk-toggleable__label {background-color: #d4ebff;}#sk-32865e95-29d1-4d82-aaa2-729501528e80 div.sk-label input.sk-toggleable__control:checked~label.sk-toggleable__label {background-color: #d4ebff;}#sk-32865e95-29d1-4d82-aaa2-729501528e80 input.sk-hidden--visually {border: 0;clip: rect(1px 1px 1px 1px);clip: rect(1px, 1px, 1px, 1px);height: 1px;margin: -1px;overflow: hidden;padding: 0;position: absolute;width: 1px;}#sk-32865e95-29d1-4d82-aaa2-729501528e80 div.sk-estimator {font-family: monospace;background-color: #f0f8ff;margin: 0.25em 0.25em;border: 1px dotted black;border-radius: 0.25em;box-sizing: border-box;}#sk-32865e95-29d1-4d82-aaa2-729501528e80 div.sk-estimator:hover {background-color: #d4ebff;}#sk-32865e95-29d1-4d82-aaa2-729501528e80 div.sk-parallel-item::after {content: \"\";width: 100%;border-bottom: 1px solid gray;flex-grow: 1;}#sk-32865e95-29d1-4d82-aaa2-729501528e80 div.sk-label:hover label.sk-toggleable__label {background-color: #d4ebff;}#sk-32865e95-29d1-4d82-aaa2-729501528e80 div.sk-serial::before {content: \"\";position: absolute;border-left: 1px solid gray;box-sizing: border-box;top: 2em;bottom: 0;left: 50%;}#sk-32865e95-29d1-4d82-aaa2-729501528e80 div.sk-serial {display: flex;flex-direction: column;align-items: center;background-color: white;}#sk-32865e95-29d1-4d82-aaa2-729501528e80 div.sk-item {z-index: 1;}#sk-32865e95-29d1-4d82-aaa2-729501528e80 div.sk-parallel {display: flex;align-items: stretch;justify-content: center;background-color: white;}#sk-32865e95-29d1-4d82-aaa2-729501528e80 div.sk-parallel-item {display: flex;flex-direction: column;position: relative;background-color: white;}#sk-32865e95-29d1-4d82-aaa2-729501528e80 div.sk-parallel-item:first-child::after {align-self: flex-end;width: 50%;}#sk-32865e95-29d1-4d82-aaa2-729501528e80 div.sk-parallel-item:last-child::after {align-self: flex-start;width: 50%;}#sk-32865e95-29d1-4d82-aaa2-729501528e80 div.sk-parallel-item:only-child::after {width: 0;}#sk-32865e95-29d1-4d82-aaa2-729501528e80 div.sk-dashed-wrapped {border: 1px dashed gray;margin: 0.2em;box-sizing: border-box;padding-bottom: 0.1em;background-color: white;position: relative;}#sk-32865e95-29d1-4d82-aaa2-729501528e80 div.sk-label label {font-family: monospace;font-weight: bold;background-color: white;display: inline-block;line-height: 1.2em;}#sk-32865e95-29d1-4d82-aaa2-729501528e80 div.sk-label-container {position: relative;z-index: 2;text-align: center;}#sk-32865e95-29d1-4d82-aaa2-729501528e80 div.sk-container {display: inline-block;position: relative;}</style><div id=\"sk-32865e95-29d1-4d82-aaa2-729501528e80\" class\"sk-top-container\"><div class=\"sk-container\"><div class=\"sk-item sk-dashed-wrapped\"><div class=\"sk-label-container\"><div class=\"sk-label sk-toggleable\"><input class=\"sk-toggleable__control sk-hidden--visually\" id=\"2517319b-a88c-4e9c-baa6-488cb8d7646f\" type=\"checkbox\" ><label class=\"sk-toggleable__label\" for=\"2517319b-a88c-4e9c-baa6-488cb8d7646f\">Pipeline</label><div class=\"sk-toggleable__content\"><pre>Pipeline(steps=[('transformer_fechas',\n",
       "                 ColumnTransformer(remainder='passthrough', transformers=[])),\n",
       "                ('Ordinal', OrdinalEncoder())])</pre></div></div></div><div class=\"sk-serial\"><div class=\"sk-item sk-dashed-wrapped\"><div class=\"sk-label-container\"><div class=\"sk-label sk-toggleable\"><input class=\"sk-toggleable__control sk-hidden--visually\" id=\"7dcda0aa-7509-4d12-b315-b759066e00a9\" type=\"checkbox\" ><label class=\"sk-toggleable__label\" for=\"7dcda0aa-7509-4d12-b315-b759066e00a9\">transformer_fechas: ColumnTransformer</label><div class=\"sk-toggleable__content\"><pre>ColumnTransformer(remainder='passthrough', transformers=[])</pre></div></div></div><div class=\"sk-parallel\"><div class=\"sk-parallel-item\"><div class=\"sk-item\"><div class=\"sk-label-container\"><div class=\"sk-label sk-toggleable\"><input class=\"sk-toggleable__control sk-hidden--visually\" id=\"446e687e-5760-4e76-81c9-6ec530b9bab8\" type=\"checkbox\" ><label class=\"sk-toggleable__label\" for=\"446e687e-5760-4e76-81c9-6ec530b9bab8\">remainder</label><div class=\"sk-toggleable__content\"><pre>['vendor_id', 'pickup_borough', 'pickup_datetime']</pre></div></div></div><div class=\"sk-serial\"><div class=\"sk-item\"><div class=\"sk-estimator sk-toggleable\"><input class=\"sk-toggleable__control sk-hidden--visually\" id=\"9b819173-b6ad-4035-b0fc-f5c808d49b45\" type=\"checkbox\" ><label class=\"sk-toggleable__label\" for=\"9b819173-b6ad-4035-b0fc-f5c808d49b45\">passthrough</label><div class=\"sk-toggleable__content\"><pre>passthrough</pre></div></div></div></div></div></div></div></div><div class=\"sk-item\"><div class=\"sk-estimator sk-toggleable\"><input class=\"sk-toggleable__control sk-hidden--visually\" id=\"64e5dad4-db0e-4231-9025-2706abaecdf7\" type=\"checkbox\" ><label class=\"sk-toggleable__label\" for=\"64e5dad4-db0e-4231-9025-2706abaecdf7\">OrdinalEncoder</label><div class=\"sk-toggleable__content\"><pre>OrdinalEncoder()</pre></div></div></div></div></div></div></div>"
      ],
      "text/plain": [
       "Pipeline(steps=[('transformer_fechas',\n",
       "                 ColumnTransformer(remainder='passthrough', transformers=[])),\n",
       "                ('Ordinal', OrdinalEncoder())])"
      ]
     },
     "metadata": {},
     "output_type": "display_data"
    }
   ],
   "source": [
    "display(cat_pipeline)"
   ]
  },
  {
   "cell_type": "markdown",
   "metadata": {},
   "source": [
    "<b>Checkpoint #3</b>"
   ]
  },
  {
   "cell_type": "code",
   "execution_count": 24,
   "metadata": {},
   "outputs": [
    {
     "name": "stdout",
     "output_type": "stream",
     "text": [
      "[[ 3. 21.  0.  1.]\n",
      " [ 6. 21.  1.  2.]\n",
      " [ 1. 18.  1.  2.]\n",
      " ...\n",
      " [ 6.  2.  0.  3.]\n",
      " [ 1. 23.  1.  1.]\n",
      " [ 1.  2.  1.  2.]]\n"
     ]
    }
   ],
   "source": [
    "from sklearn.preprocessing import OrdinalEncoder\n",
    "\n",
    "cat_cols = [\"vendor_id\", \"pickup_borough\", \"pickup_datetime\"]\n",
    "\n",
    "transformer_fechas = ColumnTransformer(\n",
    "    [\n",
    "        (\"transfomer_fechas\", TransformerFechas(), [\"pickup_datetime\"])\n",
    "    ],\n",
    "    remainder=\"passthrough\"\n",
    ")\n",
    "\n",
    "cat_pipeline = Pipeline(\n",
    "    [\n",
    "        (\"transformer_fechas\", transformer_fechas),\n",
    "        (\"ordinal_encoder\", OrdinalEncoder())\n",
    "    ]\n",
    ")\n",
    "\n",
    "X_cat = cat_pipeline.fit_transform(train_df[cat_cols])\n",
    "print(X_cat)"
   ]
  },
  {
   "cell_type": "markdown",
   "metadata": {},
   "source": [
    "### Unión de Pipelines"
   ]
  },
  {
   "cell_type": "code",
   "execution_count": 25,
   "metadata": {},
   "outputs": [
    {
     "name": "stdout",
     "output_type": "stream",
     "text": [
      "(1085891, 6)\n"
     ]
    }
   ],
   "source": [
    "from sklearn.pipeline import FeatureUnion\n",
    "\n",
    "full_pipeline = ColumnTransformer(\n",
    "    [\n",
    "        (\"num_pipeline\", num_pipeline, num_cols),\n",
    "        (\"cat_pipeline\", cat_pipeline, cat_cols)\n",
    "    ]\n",
    ")\n",
    "\n",
    "X_transformed = full_pipeline.fit_transform(train_df, y_train)\n",
    "print(X_transformed.shape)"
   ]
  },
  {
   "cell_type": "code",
   "execution_count": 26,
   "metadata": {},
   "outputs": [
    {
     "data": {
      "text/html": [
       "<style>#sk-4c0bae90-d968-418a-809e-fe49892cab75 {color: black;background-color: white;}#sk-4c0bae90-d968-418a-809e-fe49892cab75 pre{padding: 0;}#sk-4c0bae90-d968-418a-809e-fe49892cab75 div.sk-toggleable {background-color: white;}#sk-4c0bae90-d968-418a-809e-fe49892cab75 label.sk-toggleable__label {cursor: pointer;display: block;width: 100%;margin-bottom: 0;padding: 0.2em 0.3em;box-sizing: border-box;text-align: center;}#sk-4c0bae90-d968-418a-809e-fe49892cab75 div.sk-toggleable__content {max-height: 0;max-width: 0;overflow: hidden;text-align: left;background-color: #f0f8ff;}#sk-4c0bae90-d968-418a-809e-fe49892cab75 div.sk-toggleable__content pre {margin: 0.2em;color: black;border-radius: 0.25em;background-color: #f0f8ff;}#sk-4c0bae90-d968-418a-809e-fe49892cab75 input.sk-toggleable__control:checked~div.sk-toggleable__content {max-height: 200px;max-width: 100%;overflow: auto;}#sk-4c0bae90-d968-418a-809e-fe49892cab75 div.sk-estimator input.sk-toggleable__control:checked~label.sk-toggleable__label {background-color: #d4ebff;}#sk-4c0bae90-d968-418a-809e-fe49892cab75 div.sk-label input.sk-toggleable__control:checked~label.sk-toggleable__label {background-color: #d4ebff;}#sk-4c0bae90-d968-418a-809e-fe49892cab75 input.sk-hidden--visually {border: 0;clip: rect(1px 1px 1px 1px);clip: rect(1px, 1px, 1px, 1px);height: 1px;margin: -1px;overflow: hidden;padding: 0;position: absolute;width: 1px;}#sk-4c0bae90-d968-418a-809e-fe49892cab75 div.sk-estimator {font-family: monospace;background-color: #f0f8ff;margin: 0.25em 0.25em;border: 1px dotted black;border-radius: 0.25em;box-sizing: border-box;}#sk-4c0bae90-d968-418a-809e-fe49892cab75 div.sk-estimator:hover {background-color: #d4ebff;}#sk-4c0bae90-d968-418a-809e-fe49892cab75 div.sk-parallel-item::after {content: \"\";width: 100%;border-bottom: 1px solid gray;flex-grow: 1;}#sk-4c0bae90-d968-418a-809e-fe49892cab75 div.sk-label:hover label.sk-toggleable__label {background-color: #d4ebff;}#sk-4c0bae90-d968-418a-809e-fe49892cab75 div.sk-serial::before {content: \"\";position: absolute;border-left: 1px solid gray;box-sizing: border-box;top: 2em;bottom: 0;left: 50%;}#sk-4c0bae90-d968-418a-809e-fe49892cab75 div.sk-serial {display: flex;flex-direction: column;align-items: center;background-color: white;}#sk-4c0bae90-d968-418a-809e-fe49892cab75 div.sk-item {z-index: 1;}#sk-4c0bae90-d968-418a-809e-fe49892cab75 div.sk-parallel {display: flex;align-items: stretch;justify-content: center;background-color: white;}#sk-4c0bae90-d968-418a-809e-fe49892cab75 div.sk-parallel-item {display: flex;flex-direction: column;position: relative;background-color: white;}#sk-4c0bae90-d968-418a-809e-fe49892cab75 div.sk-parallel-item:first-child::after {align-self: flex-end;width: 50%;}#sk-4c0bae90-d968-418a-809e-fe49892cab75 div.sk-parallel-item:last-child::after {align-self: flex-start;width: 50%;}#sk-4c0bae90-d968-418a-809e-fe49892cab75 div.sk-parallel-item:only-child::after {width: 0;}#sk-4c0bae90-d968-418a-809e-fe49892cab75 div.sk-dashed-wrapped {border: 1px dashed gray;margin: 0.2em;box-sizing: border-box;padding-bottom: 0.1em;background-color: white;position: relative;}#sk-4c0bae90-d968-418a-809e-fe49892cab75 div.sk-label label {font-family: monospace;font-weight: bold;background-color: white;display: inline-block;line-height: 1.2em;}#sk-4c0bae90-d968-418a-809e-fe49892cab75 div.sk-label-container {position: relative;z-index: 2;text-align: center;}#sk-4c0bae90-d968-418a-809e-fe49892cab75 div.sk-container {display: inline-block;position: relative;}</style><div id=\"sk-4c0bae90-d968-418a-809e-fe49892cab75\" class\"sk-top-container\"><div class=\"sk-container\"><div class=\"sk-item sk-dashed-wrapped\"><div class=\"sk-label-container\"><div class=\"sk-label sk-toggleable\"><input class=\"sk-toggleable__control sk-hidden--visually\" id=\"75e2cd0b-1056-43aa-8887-4004351b4ade\" type=\"checkbox\" ><label class=\"sk-toggleable__label\" for=\"75e2cd0b-1056-43aa-8887-4004351b4ade\">ColumnTransformer</label><div class=\"sk-toggleable__content\"><pre>ColumnTransformer(transformers=[('num_pipeline',\n",
       "                                 Pipeline(steps=[('transformer_coord',\n",
       "                                                  ColumnTransformer(remainder='passthrough',\n",
       "                                                                    transformers=[('transformer_dist',\n",
       "                                                                                   TransformerDistancia(),\n",
       "                                                                                   ['pickup_longitude',\n",
       "                                                                                    'pickup_latitude',\n",
       "                                                                                    'dropoff_longitude',\n",
       "                                                                                    'dropoff_latitude'])])),\n",
       "                                                 ('scaler', StandardScaler())]),\n",
       "                                 ['passenger_count', 'pickup_longitude',\n",
       "                                  'pickup_latitude', 'dropoff_longitude',\n",
       "                                  'dropoff_latitude']),\n",
       "                                ('cat_pipeline',\n",
       "                                 Pipeline(steps=[('transformer_fechas',\n",
       "                                                  ColumnTransformer(remainder='passthrough',\n",
       "                                                                    transformers=[('transfomer_fechas',\n",
       "                                                                                   TransformerFechas(),\n",
       "                                                                                   ['pickup_datetime'])])),\n",
       "                                                 ('ordinal_encoder',\n",
       "                                                  OrdinalEncoder())]),\n",
       "                                 ['vendor_id', 'pickup_borough',\n",
       "                                  'pickup_datetime'])])</pre></div></div></div><div class=\"sk-parallel\"><div class=\"sk-parallel-item\"><div class=\"sk-item\"><div class=\"sk-label-container\"><div class=\"sk-label sk-toggleable\"><input class=\"sk-toggleable__control sk-hidden--visually\" id=\"ff37d8e5-c42e-45be-a350-42b80799a374\" type=\"checkbox\" ><label class=\"sk-toggleable__label\" for=\"ff37d8e5-c42e-45be-a350-42b80799a374\">num_pipeline</label><div class=\"sk-toggleable__content\"><pre>['passenger_count', 'pickup_longitude', 'pickup_latitude', 'dropoff_longitude', 'dropoff_latitude']</pre></div></div></div><div class=\"sk-serial\"><div class=\"sk-item\"><div class=\"sk-serial\"><div class=\"sk-item sk-dashed-wrapped\"><div class=\"sk-label-container\"><div class=\"sk-label sk-toggleable\"><input class=\"sk-toggleable__control sk-hidden--visually\" id=\"a3093acc-158d-4fb7-b828-9fd3ba735cea\" type=\"checkbox\" ><label class=\"sk-toggleable__label\" for=\"a3093acc-158d-4fb7-b828-9fd3ba735cea\">transformer_coord: ColumnTransformer</label><div class=\"sk-toggleable__content\"><pre>ColumnTransformer(remainder='passthrough',\n",
       "                  transformers=[('transformer_dist', TransformerDistancia(),\n",
       "                                 ['pickup_longitude', 'pickup_latitude',\n",
       "                                  'dropoff_longitude', 'dropoff_latitude'])])</pre></div></div></div><div class=\"sk-parallel\"><div class=\"sk-parallel-item\"><div class=\"sk-item\"><div class=\"sk-label-container\"><div class=\"sk-label sk-toggleable\"><input class=\"sk-toggleable__control sk-hidden--visually\" id=\"99ebe10e-798f-4f83-9571-a76452d1b9fa\" type=\"checkbox\" ><label class=\"sk-toggleable__label\" for=\"99ebe10e-798f-4f83-9571-a76452d1b9fa\">transformer_dist</label><div class=\"sk-toggleable__content\"><pre>['pickup_longitude', 'pickup_latitude', 'dropoff_longitude', 'dropoff_latitude']</pre></div></div></div><div class=\"sk-serial\"><div class=\"sk-item\"><div class=\"sk-estimator sk-toggleable\"><input class=\"sk-toggleable__control sk-hidden--visually\" id=\"1bdff357-7d64-4e46-a313-bb51f18bb49a\" type=\"checkbox\" ><label class=\"sk-toggleable__label\" for=\"1bdff357-7d64-4e46-a313-bb51f18bb49a\">TransformerDistancia</label><div class=\"sk-toggleable__content\"><pre>TransformerDistancia()</pre></div></div></div></div></div></div><div class=\"sk-parallel-item\"><div class=\"sk-item\"><div class=\"sk-label-container\"><div class=\"sk-label sk-toggleable\"><input class=\"sk-toggleable__control sk-hidden--visually\" id=\"f5a0be65-e5c2-4fc7-81df-9b2a75993f04\" type=\"checkbox\" ><label class=\"sk-toggleable__label\" for=\"f5a0be65-e5c2-4fc7-81df-9b2a75993f04\">remainder</label><div class=\"sk-toggleable__content\"><pre>['passenger_count']</pre></div></div></div><div class=\"sk-serial\"><div class=\"sk-item\"><div class=\"sk-estimator sk-toggleable\"><input class=\"sk-toggleable__control sk-hidden--visually\" id=\"4c058ab8-33f9-47bd-9014-d3c88e155573\" type=\"checkbox\" ><label class=\"sk-toggleable__label\" for=\"4c058ab8-33f9-47bd-9014-d3c88e155573\">passthrough</label><div class=\"sk-toggleable__content\"><pre>passthrough</pre></div></div></div></div></div></div></div></div><div class=\"sk-item\"><div class=\"sk-estimator sk-toggleable\"><input class=\"sk-toggleable__control sk-hidden--visually\" id=\"b23cefba-caec-47d4-948e-62ff82be84eb\" type=\"checkbox\" ><label class=\"sk-toggleable__label\" for=\"b23cefba-caec-47d4-948e-62ff82be84eb\">StandardScaler</label><div class=\"sk-toggleable__content\"><pre>StandardScaler()</pre></div></div></div></div></div></div></div></div><div class=\"sk-parallel-item\"><div class=\"sk-item\"><div class=\"sk-label-container\"><div class=\"sk-label sk-toggleable\"><input class=\"sk-toggleable__control sk-hidden--visually\" id=\"0174ab90-f1b9-4cf9-83c6-6beb16ea7ada\" type=\"checkbox\" ><label class=\"sk-toggleable__label\" for=\"0174ab90-f1b9-4cf9-83c6-6beb16ea7ada\">cat_pipeline</label><div class=\"sk-toggleable__content\"><pre>['vendor_id', 'pickup_borough', 'pickup_datetime']</pre></div></div></div><div class=\"sk-serial\"><div class=\"sk-item\"><div class=\"sk-serial\"><div class=\"sk-item sk-dashed-wrapped\"><div class=\"sk-label-container\"><div class=\"sk-label sk-toggleable\"><input class=\"sk-toggleable__control sk-hidden--visually\" id=\"ba8238dc-9c2c-483e-b220-8baaa6bdd84e\" type=\"checkbox\" ><label class=\"sk-toggleable__label\" for=\"ba8238dc-9c2c-483e-b220-8baaa6bdd84e\">transformer_fechas: ColumnTransformer</label><div class=\"sk-toggleable__content\"><pre>ColumnTransformer(remainder='passthrough',\n",
       "                  transformers=[('transfomer_fechas', TransformerFechas(),\n",
       "                                 ['pickup_datetime'])])</pre></div></div></div><div class=\"sk-parallel\"><div class=\"sk-parallel-item\"><div class=\"sk-item\"><div class=\"sk-label-container\"><div class=\"sk-label sk-toggleable\"><input class=\"sk-toggleable__control sk-hidden--visually\" id=\"37d7f5a2-c3b4-46de-8004-32fdd3b6d2ac\" type=\"checkbox\" ><label class=\"sk-toggleable__label\" for=\"37d7f5a2-c3b4-46de-8004-32fdd3b6d2ac\">transfomer_fechas</label><div class=\"sk-toggleable__content\"><pre>['pickup_datetime']</pre></div></div></div><div class=\"sk-serial\"><div class=\"sk-item\"><div class=\"sk-estimator sk-toggleable\"><input class=\"sk-toggleable__control sk-hidden--visually\" id=\"fe95a55e-2dfd-45b7-9d49-f604ccab9fee\" type=\"checkbox\" ><label class=\"sk-toggleable__label\" for=\"fe95a55e-2dfd-45b7-9d49-f604ccab9fee\">TransformerFechas</label><div class=\"sk-toggleable__content\"><pre>TransformerFechas()</pre></div></div></div></div></div></div><div class=\"sk-parallel-item\"><div class=\"sk-item\"><div class=\"sk-label-container\"><div class=\"sk-label sk-toggleable\"><input class=\"sk-toggleable__control sk-hidden--visually\" id=\"6db31e96-a6bd-4a36-bd14-3242e86791de\" type=\"checkbox\" ><label class=\"sk-toggleable__label\" for=\"6db31e96-a6bd-4a36-bd14-3242e86791de\">remainder</label><div class=\"sk-toggleable__content\"><pre>['vendor_id', 'pickup_borough']</pre></div></div></div><div class=\"sk-serial\"><div class=\"sk-item\"><div class=\"sk-estimator sk-toggleable\"><input class=\"sk-toggleable__control sk-hidden--visually\" id=\"e1063040-a9d4-49e4-a370-2adbfd861970\" type=\"checkbox\" ><label class=\"sk-toggleable__label\" for=\"e1063040-a9d4-49e4-a370-2adbfd861970\">passthrough</label><div class=\"sk-toggleable__content\"><pre>passthrough</pre></div></div></div></div></div></div></div></div><div class=\"sk-item\"><div class=\"sk-estimator sk-toggleable\"><input class=\"sk-toggleable__control sk-hidden--visually\" id=\"1cbef968-6aed-4e64-9f13-90491faf94a2\" type=\"checkbox\" ><label class=\"sk-toggleable__label\" for=\"1cbef968-6aed-4e64-9f13-90491faf94a2\">OrdinalEncoder</label><div class=\"sk-toggleable__content\"><pre>OrdinalEncoder()</pre></div></div></div></div></div></div></div></div></div></div></div></div>"
      ],
      "text/plain": [
       "ColumnTransformer(transformers=[('num_pipeline',\n",
       "                                 Pipeline(steps=[('transformer_coord',\n",
       "                                                  ColumnTransformer(remainder='passthrough',\n",
       "                                                                    transformers=[('transformer_dist',\n",
       "                                                                                   TransformerDistancia(),\n",
       "                                                                                   ['pickup_longitude',\n",
       "                                                                                    'pickup_latitude',\n",
       "                                                                                    'dropoff_longitude',\n",
       "                                                                                    'dropoff_latitude'])])),\n",
       "                                                 ('scaler', StandardScaler())]),\n",
       "                                 ['passenger_count', 'pickup_longitude',\n",
       "                                  'pickup_latitude', 'dropoff_longitude',\n",
       "                                  'dropoff_latitude']),\n",
       "                                ('cat_pipeline',\n",
       "                                 Pipeline(steps=[('transformer_fechas',\n",
       "                                                  ColumnTransformer(remainder='passthrough',\n",
       "                                                                    transformers=[('transfomer_fechas',\n",
       "                                                                                   TransformerFechas(),\n",
       "                                                                                   ['pickup_datetime'])])),\n",
       "                                                 ('ordinal_encoder',\n",
       "                                                  OrdinalEncoder())]),\n",
       "                                 ['vendor_id', 'pickup_borough',\n",
       "                                  'pickup_datetime'])])"
      ]
     },
     "metadata": {},
     "output_type": "display_data"
    }
   ],
   "source": [
    "display(full_pipeline)"
   ]
  },
  {
   "cell_type": "markdown",
   "metadata": {},
   "source": [
    "### Guardar Pipeline a Disco"
   ]
  },
  {
   "cell_type": "code",
   "execution_count": 35,
   "metadata": {},
   "outputs": [],
   "source": [
    "import dill\n",
    "dill.settings['recurse'] = True\n",
    "\n",
    "with open(\"pipeline.pkl\", \"wb\") as f:\n",
    "    dill.dump(full_pipeline, f)"
   ]
  },
  {
   "cell_type": "code",
   "execution_count": 36,
   "metadata": {},
   "outputs": [
    {
     "name": "stdout",
     "output_type": "stream",
     "text": [
      "True\n"
     ]
    }
   ],
   "source": [
    "with open(\"pipeline.pkl\", \"rb\") as f:\n",
    "    loaded_pipeline = dill.load(f)\n",
    "    \n",
    "X_loaded = loaded_pipeline.transform(train_df)\n",
    "print((X_loaded == X_transformed).all())"
   ]
  }
 ],
 "metadata": {
  "kernelspec": {
   "display_name": "Python 3",
   "language": "python",
   "name": "python3"
  },
  "language_info": {
   "codemirror_mode": {
    "name": "ipython",
    "version": 3
   },
   "file_extension": ".py",
   "mimetype": "text/x-python",
   "name": "python",
   "nbconvert_exporter": "python",
   "pygments_lexer": "ipython3",
   "version": "3.8.5"
  }
 },
 "nbformat": 4,
 "nbformat_minor": 4
}
